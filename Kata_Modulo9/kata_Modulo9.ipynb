{
 "cells": [
  {
   "cell_type": "markdown",
   "metadata": {},
   "source": [
    "# Ejercicio: Uso de funciones en Python\n",
    "Ejercicio 1: Trabajar con argumentos en funciones\n",
    "Los argumentos requeridos en las funciones se utilizan cuando las funciones necesitan que esos argumentos funcionen correctamente. En este ejercicio, construirás un informe de combustible que requiere información de varias ubicaciones de combustible en todo el cohete."
   ]
  },
  {
   "cell_type": "code",
   "execution_count": 2,
   "metadata": {},
   "outputs": [
    {
     "name": "stdout",
     "output_type": "stream",
     "text": [
      "Gasolina de tanque1:  10\n",
      "Gasolina de tanque2:  40\n",
      "Gasolina de tanque3:  100\n",
      "Promedio de combustible:  50.0\n"
     ]
    }
   ],
   "source": [
    "# Función para leer 3 tanques de combustible y muestre el promedio\n",
    "def informe(tanque1, tanque2, tanque3):\n",
    "    print(\"Gasolina de tanque1: \",tanque1)\n",
    "    print(\"Gasolina de tanque2: \",tanque2)\n",
    "    print(\"Gasolina de tanque3: \",tanque3)\n",
    "    print(\"Promedio de combustible: \", (tanque1+tanque2+tanque3)/3)\n",
    "## Llamamos a la función que genera el reporte\n",
    "informe(10,40,100)\n",
    "    "
   ]
  },
  {
   "cell_type": "markdown",
   "metadata": {},
   "source": [
    "En lugar de simplemente crear el informe, la función también está calculando el promedio. Mejora la legibilidad extrayendo el cálculo promedio de la función en una nueva función para que el promedio se pueda hacer de forma independiente:"
   ]
  },
  {
   "cell_type": "code",
   "execution_count": 3,
   "metadata": {},
   "outputs": [],
   "source": [
    "def promedio(tanque1, tanque2, tanque3):\n",
    "    promedio = (tanque1+tanque2+tanque3)/3"
   ]
  },
  {
   "cell_type": "markdown",
   "metadata": {},
   "source": [
    "Ahora actualiza la función de informes para llamando a la nueva función del promedio:"
   ]
  },
  {
   "cell_type": "code",
   "execution_count": 5,
   "metadata": {},
   "outputs": [
    {
     "name": "stdout",
     "output_type": "stream",
     "text": [
      "Gasolina de tanque1:  100\n",
      "Gasolina de tanque2:  20\n",
      "Gasolina de tanque3:  10\n",
      "Promedio de combustible:  43.333333333333336\n"
     ]
    }
   ],
   "source": [
    "def informeNueva(tanquea, tanqueb, tanquec):\n",
    "    print(\"Gasolina de tanque1: \",tanquea)\n",
    "    print(\"Gasolina de tanque2: \",tanqueb)\n",
    "    print(\"Gasolina de tanque3: \",tanquec)\n",
    "    print(\"Promedio de combustible: \",promedio(tanquea, tanqueb, tanquec))\n",
    "## Llamamos a la función que genera el reporte\n",
    "informe(100,20,10)"
   ]
  },
  {
   "cell_type": "markdown",
   "metadata": {},
   "source": [
    "# Ejercicio 2: Trabajo con argumentos de palabra clave\n"
   ]
  },
  {
   "cell_type": "code",
   "execution_count": 8,
   "metadata": {},
   "outputs": [
    {
     "name": "stdout",
     "output_type": "stream",
     "text": [
      "Mision a  Jupyter tendra un tiempo total de  2100 min, combustible restante de:  120000\n"
     ]
    }
   ],
   "source": [
    "# Función con un informe preciso de la misión\n",
    "def mission_report(pre_launch_time, flight_time, destination, external_tank, main_tank):\n",
    "    totalTime= pre_launch_time+flight_time\n",
    "    totalFuel= external_tank+main_tank\n",
    "    print(\"Mision a \", destination, \"tendra un tiempo total de \", totalTime, \"min, combustible restante de: \", totalFuel)\n",
    "\n",
    "mission_report(100, 2000, \"Jupyter\", 20000, 100000)"
   ]
  },
  {
   "cell_type": "code",
   "execution_count": 24,
   "metadata": {},
   "outputs": [
    {
     "name": "stdout",
     "output_type": "stream",
     "text": [
      "Mision a  Marte tendra un tiempo total de  30883 min, combustible restante de:  102003\n"
     ]
    }
   ],
   "source": [
    "# Función con un informe preciso de la misión\n",
    "def mission_report2(destination, *time, **fuel):\n",
    "    totalTime= sum(time)\n",
    "    totalFuel= sum(fuel.values())\n",
    "    print(\"Mision a \", destination, \"tendra un tiempo total de \", totalTime, \"min, combustible restante de: \", totalFuel)\n",
    "\n",
    "mission_report2(\"Marte\", 10000,20883, principal= 100000, extra= 2003)\n"
   ]
  },
  {
   "cell_type": "code",
   "execution_count": 28,
   "metadata": {},
   "outputs": [
    {
     "name": "stdout",
     "output_type": "stream",
     "text": [
      "Mision a  Marte tendra un tiempo total de  30883 min, combustible restante de:  102003\n",
      "tanque principal cuenta con:  100000\n",
      "tanque extra cuenta con:  2003\n"
     ]
    }
   ],
   "source": [
    "#Debido a que el combustible que queda en los tanques es específico de cada tanque, actualiza la función para usar el nombre de cada tanque en el informe:\n",
    "def mission_report3(destination, *time, **fuel):\n",
    "    totalTime= sum(time)\n",
    "    totalFuel= sum(fuel.values())\n",
    "    print(\"Mision a \", destination, \"tendra un tiempo total de \", totalTime, \"min, combustible restante de: \", totalFuel)\n",
    "\n",
    "    for name, lt in fuel.items():\n",
    "        print(\"tanque\",name, \"cuenta con: \", lt)\n",
    "\n",
    "mission_report3(\"Marte\", 10000,20883, principal= 100000, extra= 2003)"
   ]
  }
 ],
 "metadata": {
  "interpreter": {
   "hash": "e6d5a834247812b664be6cd249df72fe2202c8e323570b59aec689506f9dc523"
  },
  "kernelspec": {
   "display_name": "Python 3.10.2 64-bit",
   "language": "python",
   "name": "python3"
  },
  "language_info": {
   "codemirror_mode": {
    "name": "ipython",
    "version": 3
   },
   "file_extension": ".py",
   "mimetype": "text/x-python",
   "name": "python",
   "nbconvert_exporter": "python",
   "pygments_lexer": "ipython3",
   "version": "3.10.2"
  },
  "orig_nbformat": 4
 },
 "nbformat": 4,
 "nbformat_minor": 2
}
