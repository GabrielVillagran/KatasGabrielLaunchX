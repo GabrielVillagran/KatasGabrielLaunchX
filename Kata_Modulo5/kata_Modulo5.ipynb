{
 "cells": [
  {
   "cell_type": "markdown",
   "metadata": {},
   "source": [
    "# Ejercicio1 - Utilizar operadores aritméticos\n",
    "Exploremos cómo podemos crear un programa que pueda calcular la distancia entre dos planetas. Comenzaremos usando dos distancias de planetas: Tierra (149.597.870 km) y Júpiter (778.547.200 km)."
   ]
  },
  {
   "cell_type": "code",
   "execution_count": 3,
   "metadata": {},
   "outputs": [
    {
     "name": "stdout",
     "output_type": "stream",
     "text": [
      "Distancia en km:  628949330\n",
      "Distancia en millas:  1012195830.53952\n"
     ]
    }
   ],
   "source": [
    "# Crear variables para almacenar las dos distancias\n",
    "tierraDist = 149597870 \n",
    "jupiterDist = 778547200\n",
    "# Calculo de la distancia\n",
    "print(\"Distancia en km: \",(abs(tierraDist - jupiterDist)))\n",
    "print(\"Distancia en millas: \",(abs(tierraDist - jupiterDist)) * 1.609344)"
   ]
  },
  {
   "cell_type": "markdown",
   "metadata": {},
   "source": [
    "# Ejercicio 2: convierte cadenas en números y usa valores absolutos\n",
    "Crear una aplicación para trabajar con números y entrada de usuario\n",
    "\n",
    "Para crear nuestra aplicación, queremos leer la distancia del sol para dos planetas, y luego mostrar la distancia entre los planetas. Haremos esto usando input para leer los valores, int para convertir a entero y luego abs para convertir el resultado en su valor absoluto."
   ]
  },
  {
   "cell_type": "code",
   "execution_count": 4,
   "metadata": {},
   "outputs": [
    {
     "name": "stdout",
     "output_type": "stream",
     "text": [
      "Distancia en km:  50300000\n",
      "Distancia en millas:  80950003.2\n"
     ]
    }
   ],
   "source": [
    "#leer valores\n",
    "namePlanet1 = input(\"Agregue el nombre del primer planeta: \")\n",
    "distPlanet1 = int(input(\"Agregue la distancia que hay del sol a dicho planeta: \"))\n",
    "namePlanet2 = input(\"Agregue el nombre del primer planeta: \")\n",
    "distPlanet2 = int(input(\"Agregue la distancia que hay del sol a dicho planeta: \"))\n",
    "#Realizar el cálculo y convertir a valor absoluto\n",
    "print(\"Distancia en km: \",(abs(distPlanet1 - distPlanet2)))\n",
    "print(\"Distancia en millas: \",(abs(distPlanet1 - distPlanet2)) * 1.609344)\n"
   ]
  }
 ],
 "metadata": {
  "interpreter": {
   "hash": "e6d5a834247812b664be6cd249df72fe2202c8e323570b59aec689506f9dc523"
  },
  "kernelspec": {
   "display_name": "Python 3.10.2 64-bit",
   "language": "python",
   "name": "python3"
  },
  "language_info": {
   "codemirror_mode": {
    "name": "ipython",
    "version": 3
   },
   "file_extension": ".py",
   "mimetype": "text/x-python",
   "name": "python",
   "nbconvert_exporter": "python",
   "pygments_lexer": "ipython3",
   "version": "3.10.2"
  },
  "orig_nbformat": 4
 },
 "nbformat": 4,
 "nbformat_minor": 2
}
