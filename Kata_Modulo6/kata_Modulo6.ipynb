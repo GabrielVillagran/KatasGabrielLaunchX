{
 "cells": [
  {
   "cell_type": "markdown",
   "metadata": {},
   "source": [
    "# Ejercicio1: Crear y usar listas de Python\n",
    "Ejercicio: Usar listas para almacenar nombres de planetas"
   ]
  },
  {
   "cell_type": "code",
   "execution_count": 15,
   "metadata": {},
   "outputs": [
    {
     "name": "stdout",
     "output_type": "stream",
     "text": [
      "Total of planets in our solar system:  8\n",
      "=====================\n",
      "the total of planets are:  9\n",
      "The last planet is:  Pluton\n"
     ]
    }
   ],
   "source": [
    "# Creamos la lista planets y mostramos el numero de planetas\n",
    "planets = [\"Mercurio\", \"Venus\", \"Tierra\", \"Marte\", \"Jupiter\", \"Saturno\", \"Urano\", \"Neptuno\"]\n",
    "print(\"Total of planets in our solar system: \", len(planets))\n",
    "# Agregamos a plutón y mostramos el último elemento y total\n",
    "planets.append(\"Pluton\")\n",
    "print(\"=====================\")\n",
    "print(\"the total of planets are: \", len(planets))\n",
    "print(\"The last planet is: \",planets[-1])"
   ]
  },
  {
   "cell_type": "markdown",
   "metadata": {},
   "source": [
    "# Ejercicio 2: Trabajando con datos de una lista\n",
    "Usar slices para recuperar partes de una lista, es posible que debas trabajar con diferentes secciones de una lista. En nuestro ejemplo, queremos mostrar planetas más cerca y más lejos del sol de un planeta que el usuario ingresa por teclado."
   ]
  },
  {
   "cell_type": "code",
   "execution_count": 21,
   "metadata": {},
   "outputs": [],
   "source": [
    "# Lista de planetas\n",
    "planets = [\"Mercurio\", \"Venus\", \"Tierra\", \"Marte\", \"Jupiter\", \"Saturno\", \"Urano\", \"Neptuno\"]\n",
    "# Solicita al usuario el nombre de un planeta\n",
    "newPlanet = input(\"Agrega el nombre del planeta desead (Primer letra mayuscula): \")\n"
   ]
  },
  {
   "cell_type": "markdown",
   "metadata": {},
   "source": [
    "# Encuentra el planeta en la lista\n",
    "para determinar qué planetas están más cerca que el que ingresó el usuario, debes encontrar dónde está el planeta en la lista. Puedes utilizar index para realizar esta operación. Agrega el código para encontrar el índice del planeta."
   ]
  },
  {
   "cell_type": "code",
   "execution_count": 33,
   "metadata": {},
   "outputs": [
    {
     "name": "stdout",
     "output_type": "stream",
     "text": [
      "Planeta ingresado:  Venus\n",
      "Planetas mas cercanos:  ['Mercurio']\n",
      "Planetas mas cercano:  ['Tierra', 'Marte', 'Jupiter', 'Saturno', 'Urano', 'Neptuno']\n"
     ]
    }
   ],
   "source": [
    "location = planets.index(newPlanet)\n",
    "# Mostrar planetas más cercanos al sol que el que el usuario ingresó\n",
    "print(\"Planeta ingresado: \", newPlanet)\n",
    "print(\"Planetas mas cercanos: \", planets[0:location])\n",
    "# Mostrar planetas más alejados del sol que el que el usuario ingresó\n",
    "print(\"Planetas mas cercano: \", planets[location + 1:]) #el mas uno ayudara a que no se muestre el planeta indexado"
   ]
  }
 ],
 "metadata": {
  "interpreter": {
   "hash": "e6d5a834247812b664be6cd249df72fe2202c8e323570b59aec689506f9dc523"
  },
  "kernelspec": {
   "display_name": "Python 3.10.2 64-bit",
   "language": "python",
   "name": "python3"
  },
  "language_info": {
   "codemirror_mode": {
    "name": "ipython",
    "version": 3
   },
   "file_extension": ".py",
   "mimetype": "text/x-python",
   "name": "python",
   "nbconvert_exporter": "python",
   "pygments_lexer": "ipython3",
   "version": "3.10.2"
  },
  "orig_nbformat": 4
 },
 "nbformat": 4,
 "nbformat_minor": 2
}
