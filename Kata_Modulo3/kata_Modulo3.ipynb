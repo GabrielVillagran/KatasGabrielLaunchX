{
 "cells": [
  {
   "cell_type": "markdown",
   "metadata": {},
   "source": [
    "# Ejercicio - Escribir declaraciones if, else, y elif\n",
    "**Ejercicio 1**: Para este ejercicio, escribirás una lógica condicional que imprima una advertencia si un asteroide se acerca a la Tierra demasiado rápido.\n",
    "\n",
    "La velocidad del asteroide varía dependiendo de lo cerca que esté del sol, y cualquier velocidad superior a 25 kilómetros por segundo (km/s) merece una advertencia.\n",
    "\n",
    "**Un asteroide se acerca, y viaja a una velocidad de 49 km/s.**"
   ]
  },
  {
   "cell_type": "code",
   "execution_count": 7,
   "metadata": {},
   "outputs": [
    {
     "name": "stdout",
     "output_type": "stream",
     "text": [
      "Advertencia, asteroide acercandose a una velocidad de:  49.0 km/s\n"
     ]
    }
   ],
   "source": [
    "#Velocidad del asteroide\n",
    "velAsteroid= 49.0\n",
    "#Verificacion de datos\n",
    "if velAsteroid > 25.0:\n",
    "    print(\"Advertencia, asteroide acercandose a una velocidad de: \", velAsteroid, \"km/s\")\n",
    "else: \n",
    "    print(\"No hay peligro de asteroide\")"
   ]
  },
  {
   "cell_type": "markdown",
   "metadata": {},
   "source": [
    "**Ejercicio 2**: Si un asteroide entra en la atmósfera de la Tierra a una velocidad mayor o igual a 20 km/s, a veces produce un rayo de luz que se puede ver desde la Tierra.\n",
    "\n",
    "Escribe la lógica condicional que usa declaraciones if, else, y elif para alertar a las personas de todo el mundo que deben buscar un asteroide en el cielo.\n",
    "\n",
    "¡Hay uno que se dirige a la tierra ahora a una velocidad de 19 km/s!"
   ]
  },
  {
   "cell_type": "code",
   "execution_count": 8,
   "metadata": {},
   "outputs": [
    {
     "name": "stdout",
     "output_type": "stream",
     "text": [
      "Asteroide acercandose a una velocidad de:  19.0 km/s, no es posible visualizarlo en el cielo, cuidado\n"
     ]
    }
   ],
   "source": [
    "#Velocidad del asteroide\n",
    "velAsteroid = 19.0\n",
    "#Verificacion de datos\n",
    "    #Velocidad de ingreso a la atmosfera de la tierra\n",
    "if velAsteroid >= 20.0:\n",
    "    print(\"Asteroide acercandose a una velocidad de: \", velAsteroid, \"km/s, se encuentra visible en el cielo, mira arriba para buscarlo\")\n",
    "elif velAsteroid < 20.0:\n",
    "    print(\"Asteroide acercandose a una velocidad de: \", velAsteroid, \"km/s, no es posible visualizarlo en el cielo, cuidado\")\n",
    "else:\n",
    "    print(\"Todo esta bien por el momento :)\")"
   ]
  },
  {
   "cell_type": "markdown",
   "metadata": {},
   "source": [
    "# Ejercicio: Uso de operadores and y or\n",
    "Escribe un programa que emita la advertencia o información correcta a la gente de la Tierra, según la velocidad y el tamaño de un asteroide. Utiliza instrucciones if, else, y elif, así como los operadores and y or.\n",
    "- Los asteroides de menos de 25 metros en su dimensión más grande probablemente se quemarán a medida que entren en la atmósfera de la Tierra\n",
    "- La velocidad del asteroide varía en función de lo cerca que esté del sol, y cualquier velocidad superior a 25 kilómetros por segundo (km/s) merece una advertencia.\n",
    "- Si un asteroide entra en la atmósfera de la Tierra a una velocidad mayor o igual a 20 km/s, a veces produce un rayo de luz que se puede ver desde la Tierra.\n"
   ]
  },
  {
   "cell_type": "code",
   "execution_count": 27,
   "metadata": {},
   "outputs": [
    {
     "name": "stdout",
     "output_type": "stream",
     "text": [
      "Asteroide acercandose a una velocidad de:  15 km/s y con un tamaño de:  30 m, no hay peligro\n"
     ]
    }
   ],
   "source": [
    "import random as rand\n",
    "#Tmaño y velocidad del asteroide\n",
    "size = [10,15,20,25,30,35,40,45,50]\n",
    "vel = [10,15,20,25,30,35,40,45,50]\n",
    "\n",
    "asteroidTam = size[rand.randint(0,8)]\n",
    "asteroidVel = vel[rand.randint(0,8)]\n",
    "\n",
    "if asteroidTam >= 25 and asteroidVel >= 25:\n",
    "    #Asteroide grande a velocidad peligrosa y visible en el cielo\n",
    "    print(\"Asteroide acercandose a una velocidad de: \", asteroidVel,\"km/s y con un tamaño de: \",asteroidTam, \"m, mira arriba para buscarlo\")\n",
    "elif asteroidVel < 20 and asteroidVel < 25: \n",
    "    #Asteroide grande no visible y no peligroso \n",
    "    print(\"Asteroide acercandose a una velocidad de: \", asteroidVel,\"km/s y con un tamaño de: \",asteroidTam, \"m, no hay peligro\")\n",
    "elif asteroidVel >= 20 and asteroidVel < 25:\n",
    "    #Asteroide grande  visible y no peligroso \n",
    "    print(\"Todo esta bien por el momento, el asteroide se desintegrara:)\")\n",
    "else:\n",
    "    print(\"Todo esta bien por el momento, el asteroide se desintegrara:)\")\n",
    "\n"
   ]
  }
 ],
 "metadata": {
  "interpreter": {
   "hash": "e6d5a834247812b664be6cd249df72fe2202c8e323570b59aec689506f9dc523"
  },
  "kernelspec": {
   "display_name": "Python 3.10.2 64-bit",
   "language": "python",
   "name": "python3"
  },
  "language_info": {
   "codemirror_mode": {
    "name": "ipython",
    "version": 3
   },
   "file_extension": ".py",
   "mimetype": "text/x-python",
   "name": "python",
   "nbconvert_exporter": "python",
   "pygments_lexer": "ipython3",
   "version": "3.10.2"
  },
  "orig_nbformat": 4
 },
 "nbformat": 4,
 "nbformat_minor": 2
}
