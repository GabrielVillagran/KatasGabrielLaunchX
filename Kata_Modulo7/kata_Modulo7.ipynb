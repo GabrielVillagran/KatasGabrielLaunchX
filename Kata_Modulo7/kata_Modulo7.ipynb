{
 "cells": [
  {
   "cell_type": "markdown",
   "metadata": {},
   "source": [
    "# Ejercicio 1: Creación de un bucle \"while\""
   ]
  },
  {
   "cell_type": "code",
   "execution_count": 18,
   "metadata": {},
   "outputs": [],
   "source": [
    "#Comienza agregando dos variables, una para la entrada del usuario, con el nombre new_planet, y otra variable para la lista de planetas, denominada planets\n",
    "new_planet =  ''\n",
    "planets = []\n",
    "\n",
    "while new_planet.lower() !=  'done':\n",
    "    if new_planet:\n",
    "        planets.append(new_planet)\n",
    "    new_planet =  input(\"Introduzca un planeta, si ha terminado de agregar planetas escriba done: \")\n",
    "    "
   ]
  },
  {
   "cell_type": "markdown",
   "metadata": {},
   "source": [
    "# Ejercicio 2: Creación de un ciclo \"for\"\n",
    " En este ejercicio, completarás la aplicación escribiendo código que muestre los nombres de esos planetas."
   ]
  },
  {
   "cell_type": "code",
   "execution_count": 19,
   "metadata": {},
   "outputs": [
    {
     "name": "stdout",
     "output_type": "stream",
     "text": [
      "Numero de planetas ingresados:  4\n",
      "======================================\n",
      "Tierra\n",
      "Marte\n",
      "Jupiter\n",
      "Saturno\n",
      "Urano\n"
     ]
    }
   ],
   "source": [
    "#Impresion de la lista\n",
    "print(\"Numero de planetas ingresados: \", len(new_planet))\n",
    "print(\"======================================\")\n",
    "for i in range(0, len(planets)):\n",
    "    print(planets[i])"
   ]
  }
 ],
 "metadata": {
  "interpreter": {
   "hash": "e6d5a834247812b664be6cd249df72fe2202c8e323570b59aec689506f9dc523"
  },
  "kernelspec": {
   "display_name": "Python 3.10.2 64-bit",
   "language": "python",
   "name": "python3"
  },
  "language_info": {
   "codemirror_mode": {
    "name": "ipython",
    "version": 3
   },
   "file_extension": ".py",
   "mimetype": "text/x-python",
   "name": "python",
   "nbconvert_exporter": "python",
   "pygments_lexer": "ipython3",
   "version": "3.10.2"
  },
  "orig_nbformat": 4
 },
 "nbformat": 4,
 "nbformat_minor": 2
}
